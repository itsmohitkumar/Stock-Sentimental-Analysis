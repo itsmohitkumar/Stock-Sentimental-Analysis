{
 "cells": [
  {
   "cell_type": "markdown",
   "metadata": {},
   "source": [
    "Step 1: Install Required Packages"
   ]
  },
  {
   "cell_type": "code",
   "execution_count": 1,
   "metadata": {},
   "outputs": [
    {
     "name": "stdout",
     "output_type": "stream",
     "text": [
      "Requirement already satisfied: apify-client in /Users/taurangela/Desktop/Github/Stock-Sentimental-Analysis/env/lib/python3.10/site-packages (1.7.1)\n",
      "Requirement already satisfied: python-dotenv in /Users/taurangela/Desktop/Github/Stock-Sentimental-Analysis/env/lib/python3.10/site-packages (1.0.1)\n",
      "Requirement already satisfied: apify-shared~=1.1.1 in /Users/taurangela/Desktop/Github/Stock-Sentimental-Analysis/env/lib/python3.10/site-packages (from apify-client) (1.1.2)\n",
      "Requirement already satisfied: httpx>=0.25.0 in /Users/taurangela/Desktop/Github/Stock-Sentimental-Analysis/env/lib/python3.10/site-packages (from apify-client) (0.27.0)\n",
      "Requirement already satisfied: httpcore==1.* in /Users/taurangela/Desktop/Github/Stock-Sentimental-Analysis/env/lib/python3.10/site-packages (from httpx>=0.25.0->apify-client) (1.0.5)\n",
      "Requirement already satisfied: sniffio in /Users/taurangela/Desktop/Github/Stock-Sentimental-Analysis/env/lib/python3.10/site-packages (from httpx>=0.25.0->apify-client) (1.3.1)\n",
      "Requirement already satisfied: idna in /Users/taurangela/Desktop/Github/Stock-Sentimental-Analysis/env/lib/python3.10/site-packages (from httpx>=0.25.0->apify-client) (3.7)\n",
      "Requirement already satisfied: certifi in /Users/taurangela/Desktop/Github/Stock-Sentimental-Analysis/env/lib/python3.10/site-packages (from httpx>=0.25.0->apify-client) (2024.7.4)\n",
      "Requirement already satisfied: anyio in /Users/taurangela/Desktop/Github/Stock-Sentimental-Analysis/env/lib/python3.10/site-packages (from httpx>=0.25.0->apify-client) (4.4.0)\n",
      "Requirement already satisfied: h11<0.15,>=0.13 in /Users/taurangela/Desktop/Github/Stock-Sentimental-Analysis/env/lib/python3.10/site-packages (from httpcore==1.*->httpx>=0.25.0->apify-client) (0.14.0)\n",
      "Requirement already satisfied: typing-extensions>=4.1 in /Users/taurangela/Desktop/Github/Stock-Sentimental-Analysis/env/lib/python3.10/site-packages (from anyio->httpx>=0.25.0->apify-client) (4.12.2)\n",
      "Requirement already satisfied: exceptiongroup>=1.0.2 in /Users/taurangela/Desktop/Github/Stock-Sentimental-Analysis/env/lib/python3.10/site-packages (from anyio->httpx>=0.25.0->apify-client) (1.2.2)\n",
      "\u001b[33mWARNING: You are using pip version 22.0.4; however, version 24.2 is available.\n",
      "You should consider upgrading via the '/Users/taurangela/Desktop/Github/Stock-Sentimental-Analysis/env/bin/python -m pip install --upgrade pip' command.\u001b[0m\u001b[33m\n",
      "\u001b[0mNote: you may need to restart the kernel to use updated packages.\n"
     ]
    }
   ],
   "source": [
    "%pip install apify-client python-dotenv"
   ]
  },
  {
   "cell_type": "markdown",
   "metadata": {},
   "source": [
    "Step 2: Load Environment Variables and Initialize ApifyClient"
   ]
  },
  {
   "cell_type": "code",
   "execution_count": 14,
   "metadata": {},
   "outputs": [
    {
     "name": "stdout",
     "output_type": "stream",
     "text": [
      "<apify_client.client.ApifyClient object at 0x111ba76d0>\n"
     ]
    }
   ],
   "source": [
    "from apify_client import ApifyClient\n",
    "from dotenv import load_dotenv\n",
    "import pandas as pd\n",
    "import os\n",
    "\n",
    "# Load environment variables from .env file\n",
    "load_dotenv()\n",
    "\n",
    "# Initialize the ApifyClient with your Apify API token\n",
    "apify_api_token = os.getenv(\"APIFY_API_TOKEN\")\n",
    "client = ApifyClient(apify_api_token)\n",
    "\n",
    "# Test the connection by printing the client object\n",
    "print(client)"
   ]
  },
  {
   "cell_type": "markdown",
   "metadata": {},
   "source": [
    "Step 3: Prepare the Actor Input"
   ]
  },
  {
   "cell_type": "code",
   "execution_count": 2,
   "metadata": {},
   "outputs": [
    {
     "name": "stdout",
     "output_type": "stream",
     "text": [
      "{'handles': ['Apify'], 'tweetsDesired': 10, 'proxyConfig': {'useApifyProxy': True}}\n"
     ]
    }
   ],
   "source": [
    "run_input = {\n",
    "    \"handles\": [\"Apify\"],\n",
    "    \"tweetsDesired\": 10,\n",
    "    \"proxyConfig\": {\"useApifyProxy\": True},\n",
    "}\n",
    "\n",
    "# Print the prepared input to verify\n",
    "print(run_input)"
   ]
  },
  {
   "cell_type": "markdown",
   "metadata": {},
   "source": [
    "Step 4: Run the Actor"
   ]
  },
  {
   "cell_type": "code",
   "execution_count": 3,
   "metadata": {},
   "outputs": [
    {
     "name": "stdout",
     "output_type": "stream",
     "text": [
      "{'id': 'W6vPPe4htcSZnT1Sk', 'actId': 'u6ppkMWAx2E2MpEuF', 'userId': 'PoZtifxXXZ6G1CFjH', 'startedAt': datetime.datetime(2024, 8, 22, 16, 51, 54, 233000, tzinfo=datetime.timezone.utc), 'finishedAt': datetime.datetime(2024, 8, 22, 16, 52, 4, 113000, tzinfo=datetime.timezone.utc), 'status': 'SUCCEEDED', 'statusMessage': 'Finished! Total 1 requests: 1 succeeded, 0 failed.', 'isStatusMessageTerminal': True, 'meta': {'origin': 'API', 'userAgent': 'ApifyClient/1.7.1 (darwin; Python/3.10.4); isAtHome/False'}, 'stats': {'inputBodyLen': 111, 'rebootCount': 0, 'restartCount': 0, 'durationMillis': 8786, 'resurrectCount': 0, 'runTimeSecs': 8.786, 'metamorph': 0, 'computeUnits': 0.009762222222222222, 'memAvgBytes': 116615726.87643562, 'memMaxBytes': 156844032, 'memCurrentBytes': 152649728, 'cpuAvgUsage': 7.231750476394972, 'cpuMaxUsage': 88.99122200895714, 'cpuCurrentUsage': 6.638260869565217, 'netRxBytes': 111882, 'netTxBytes': 19336}, 'options': {'build': 'version-1', 'timeoutSecs': 604800, 'memoryMbytes': 4096, 'diskMbytes': 8192}, 'buildId': '1IJUG844CxeEcvBim', 'exitCode': 0, 'defaultKeyValueStoreId': 'qYHqBp8tcdSm96cRE', 'defaultDatasetId': 'HLWoTxpGfgHPKA2j7', 'defaultRequestQueueId': 'w8MgFffPx5vMQs0n0', 'buildNumber': '1.0.221', 'containerUrl': 'https://m576ghabdrud.runs.apify.net', 'usage': {'ACTOR_COMPUTE_UNITS': 0.009762222222222222, 'DATASET_READS': 0, 'DATASET_WRITES': 0, 'KEY_VALUE_STORE_READS': 0, 'KEY_VALUE_STORE_WRITES': 1, 'KEY_VALUE_STORE_LISTS': 0, 'REQUEST_QUEUE_READS': 0, 'REQUEST_QUEUE_WRITES': 0, 'DATA_TRANSFER_INTERNAL_GBYTES': 0, 'DATA_TRANSFER_EXTERNAL_GBYTES': 1.8008053302764893e-05, 'PROXY_RESIDENTIAL_TRANSFER_GBYTES': 0, 'PROXY_SERPS': 0}, 'usageTotalUsd': 0.003958490499549442, 'usageUsd': {'ACTOR_COMPUTE_UNITS': 0.003904888888888889, 'DATASET_READS': 0, 'DATASET_WRITES': 0, 'KEY_VALUE_STORE_READS': 0, 'KEY_VALUE_STORE_WRITES': 5e-05, 'KEY_VALUE_STORE_LISTS': 0, 'REQUEST_QUEUE_READS': 0, 'REQUEST_QUEUE_WRITES': 0, 'DATA_TRANSFER_INTERNAL_GBYTES': 0, 'DATA_TRANSFER_EXTERNAL_GBYTES': 3.6016106605529788e-06, 'PROXY_RESIDENTIAL_TRANSFER_GBYTES': 0, 'PROXY_SERPS': 0}}\n"
     ]
    }
   ],
   "source": [
    "run = client.actor(\"quacker/twitter-scraper\").call(run_input=run_input)\n",
    "\n",
    "# Print the run details to verify execution\n",
    "print(run)"
   ]
  },
  {
   "cell_type": "markdown",
   "metadata": {},
   "source": [
    "Step 5: Fetch and Print Actor Results"
   ]
  },
  {
   "cell_type": "code",
   "execution_count": 15,
   "metadata": {},
   "outputs": [
    {
     "name": "stdout",
     "output_type": "stream",
     "text": [
      "💾 Check your data here: https://console.apify.com/storage/datasets/HLWoTxpGfgHPKA2j7\n"
     ]
    }
   ],
   "source": [
    "dataset_id = run[\"defaultDatasetId\"]\n",
    "print(f\"💾 Check your data here: https://console.apify.com/storage/datasets/{dataset_id}\")\n",
    "\n",
    "# Create a list to hold the tweet data\n",
    "tweets = []\n",
    "\n",
    "# Fetch the dataset items and append them to the list\n",
    "for item in client.dataset(dataset_id).iterate_items():\n",
    "    tweets.append(item)"
   ]
  },
  {
   "cell_type": "markdown",
   "metadata": {},
   "source": [
    "Step 6: Convert Results to a Filtered DataFrame"
   ]
  },
  {
   "cell_type": "code",
   "execution_count": 16,
   "metadata": {},
   "outputs": [
    {
     "name": "stdout",
     "output_type": "stream",
     "text": [
      "       conversation_id                                          full_text\n",
      "0  1795062479044645313  12,500+ Stars on @GitHub ⭐️\\n\\nWe are giving a...\n",
      "1  1044680458829799424  And finally there's also an universal #webscra...\n",
      "2  1805936539756580946  We are now 7.5K dev friends on our Discord cha...\n",
      "3  1322257049527472128  That moment when @Microsoft starts using your ...\n",
      "4  1562015197543497728  📢Today we’re launching Crawlee on Product Hunt...\n"
     ]
    }
   ],
   "source": [
    "# Convert the list of tweets into a pandas DataFrame\n",
    "df = pd.DataFrame(tweets)\n",
    "\n",
    "# Filter the DataFrame to only include conversation_id and full_text columns\n",
    "filtered_df = df[['conversation_id', 'full_text']]\n",
    "\n",
    "# Display the filtered DataFrame to verify the contents\n",
    "print(filtered_df.head())\n"
   ]
  },
  {
   "cell_type": "code",
   "execution_count": null,
   "metadata": {},
   "outputs": [],
   "source": []
  }
 ],
 "metadata": {
  "kernelspec": {
   "display_name": "env",
   "language": "python",
   "name": "python3"
  },
  "language_info": {
   "codemirror_mode": {
    "name": "ipython",
    "version": 3
   },
   "file_extension": ".py",
   "mimetype": "text/x-python",
   "name": "python",
   "nbconvert_exporter": "python",
   "pygments_lexer": "ipython3",
   "version": "3.10.4"
  }
 },
 "nbformat": 4,
 "nbformat_minor": 2
}
